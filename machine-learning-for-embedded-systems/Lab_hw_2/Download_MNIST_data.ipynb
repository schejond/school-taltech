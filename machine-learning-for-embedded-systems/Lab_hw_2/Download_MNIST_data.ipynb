{
 "cells": [
  {
   "cell_type": "code",
   "execution_count": 1,
   "id": "95b2e242-59c6-4bef-b854-26649a23dc0f",
   "metadata": {},
   "outputs": [],
   "source": [
    "import tensorflow as tf\n",
    "import numpy as np\n",
    "from matplotlib import pyplot\n",
    "from PIL import Image\n",
    "import os"
   ]
  },
  {
   "cell_type": "code",
   "execution_count": 2,
   "id": "b696192e-e254-4e08-a41a-fb51149f65dc",
   "metadata": {},
   "outputs": [],
   "source": [
    "# Load and prepare MNIST dataset\n",
    "def loadMnistDataset():\n",
    "    mnist = tf.keras.datasets.mnist\n",
    "    (x_train, y_train) , (x_test, y_test) = mnist.load_data()\n",
    "    # Normalize\n",
    "    # x_train = x_train / 255.0\n",
    "    # x_test = x_test / 255.0\n",
    "    return x_train, y_train, x_test, y_test"
   ]
  },
  {
   "cell_type": "code",
   "execution_count": 3,
   "id": "53ba58ac-4b58-4800-9873-513b47f9c09b",
   "metadata": {},
   "outputs": [],
   "source": [
    "x_train, y_train, x_test, y_test = loadMnistDataset()"
   ]
  },
  {
   "cell_type": "code",
   "execution_count": 4,
   "id": "cc61cf4a-c77e-45be-bc38-9c00619da116",
   "metadata": {},
   "outputs": [],
   "source": [
    "x = np.ndarray((70000,28,28))\n",
    "y = np.ndarray((70000,))\n",
    "for i in range(60000):\n",
    "    x[i] = x_train[i]\n",
    "    y[i] = y_train[i]\n",
    "for i in range(10000):\n",
    "    idx = i + 60000\n",
    "    x[idx] = x_test[i]\n",
    "    y[idx] = y_test[i]"
   ]
  },
  {
   "cell_type": "code",
   "execution_count": 5,
   "id": "c4c8b135-8c26-440b-bef3-c05843c70dd0",
   "metadata": {},
   "outputs": [
    {
     "data": {
      "image/png": "[encoded data removed]",
      "text/plain": [
       "<Figure size 432x288 with 3 Axes>"
      ]
     },
     "metadata": {
      "needs_background": "light"
     },
     "output_type": "display_data"
    }
   ],
   "source": [
    "# plot first few images from the dataset\n",
    "for i in range(3):\n",
    "    pyplot.subplot(330 + 1 + i)\n",
    "    pyplot.imshow(x[i], cmap=pyplot.get_cmap('gray'))\n",
    "pyplot.show()"
   ]
  },
  {
   "cell_type": "code",
   "execution_count": 6,
   "id": "3871cd90-a6da-468c-b6ff-1d6ba5a5f3ef",
   "metadata": {},
   "outputs": [
    {
     "data": {
      "text/plain": [
       "(70000, 28, 28)"
      ]
     },
     "execution_count": 6,
     "metadata": {},
     "output_type": "execute_result"
    }
   ],
   "source": [
    "x.shape"
   ]
  },
  {
   "cell_type": "code",
   "execution_count": 7,
   "id": "9132cfd9-f5d9-47de-8570-e21264f52a4b",
   "metadata": {},
   "outputs": [],
   "source": [
    "targetFolderName = \"MNIST_DATASET\"\n",
    "\n",
    "for i in range(70000):\n",
    "    im = Image.fromarray(x[i])\n",
    "    im = im.convert(\"L\")\n",
    "    \n",
    "    y_name = str(int(y[i]))\n",
    "    if not os.path.exists(targetFolderName):\n",
    "            os.mkdir(targetFolderName)\n",
    "    if not os.path.exists(targetFolderName + \"/\" + y_name):\n",
    "        os.mkdir(targetFolderName + \"/\" + y_name)\n",
    "    \n",
    "    im.save(targetFolderName + \"/\" + y_name + \"/\" + y_name + \"_\" + str(i) + \".png\")"
   ]
  },
  {
   "cell_type": "code",
   "execution_count": null,
   "id": "0f608347-8957-4e9b-97fa-f5fda6a10fe5",
   "metadata": {},
   "outputs": [],
   "source": []
  }
 ],
 "metadata": {
  "kernelspec": {
   "display_name": "Python 3 (ipykernel)",
   "language": "python",
   "name": "python3"
  },
  "language_info": {
   "codemirror_mode": {
    "name": "ipython",
    "version": 3
   },
   "file_extension": ".py",
   "mimetype": "text/x-python",
   "name": "python",
   "nbconvert_exporter": "python",
   "pygments_lexer": "ipython3",
   "version": "3.8.10"
  }
 },
 "nbformat": 4,
 "nbformat_minor": 5
}
