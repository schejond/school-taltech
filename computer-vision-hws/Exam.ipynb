{
 "cells": [
  {
   "cell_type": "code",
   "execution_count": 1,
   "id": "7f70b34a-fe1f-40a1-af97-d9c7e9bfb163",
   "metadata": {},
   "outputs": [
    {
     "name": "stdout",
     "output_type": "stream",
     "text": [
      "A transformed: [2.82842712 0.22474487 0.43915759]\n",
      "B transformed: [ 4.24264069 -1.5         0.59807621]\n",
      "C transformed: [12.72792206  2.67423461  1.85337115]\n"
     ]
    }
   ],
   "source": [
    "import numpy as np\n",
    "# import matplotlib.pyplot as plt\n",
    "\n",
    "# initial points\n",
    "A = np.array([3.,  2., 1.])\n",
    "B = np.array([3.,  3., 3.])\n",
    "C = np.array([12., 2., 6.])\n",
    "\n",
    "I = np.identity(3)\n",
    "\n",
    "# axis for rotation\n",
    "xaxis = np.array([1.,0.,0.])\n",
    "yaxis = np.array([0.,1.,0.])\n",
    "\n",
    "# angles for rotation\n",
    "theta_x = 120 * np.pi/180\n",
    "theta_y = 45 * np.pi/180\n",
    "\n",
    "# translation matrix\n",
    "t = np.array([0.,0.,-2.])\n",
    "\n",
    "# v matrix by cross product\n",
    "def v_cross (v):\n",
    "    return np.array([[0,-v[2],v[1]],\n",
    "                     [v[2],0,-v[0]],\n",
    "                     [-v[1],v[0],0]])\n",
    "\n",
    "# rotation matrix by Rodrigue's formula\n",
    "def rotate(ax, angle):\n",
    "    v_x = v_cross(ax)\n",
    "    return I + np.sin(angle) * v_x + (1. - np.cos(angle)) * np.matmul(v_x, v_x)\n",
    "\n",
    "# compute transformations\n",
    "A_transformed = np.matmul(rotate(xaxis,theta_x),np.matmul(rotate(yaxis,theta_y),A)) + t\n",
    "B_transformed = np.matmul(rotate(xaxis,theta_x),np.matmul(rotate(yaxis,theta_y),B)) + t\n",
    "C_transformed = np.matmul(rotate(xaxis,theta_x),np.matmul(rotate(yaxis,theta_y),C)) + t\n",
    "\n",
    "# # ploting result\n",
    "# fig = plt.figure(figsize=[10,8])\n",
    "# sp = fig.add_subplot(1,1,1,projection='3d')\n",
    "# [sp.scatter(g[0],g[1],g[2],s=10,c='b') for g in [A,B,C]]\n",
    "# [sp.scatter(r[0],r[1],r[2],s=10,c='y') for r in [A2,B2,C2]]\n",
    "# sp.set_xlabel('X')\n",
    "# sp.set_ylabel('Y')\n",
    "# sp.set_zlabel('Z')\n",
    "# plt.show()\n",
    "\n",
    "# print transformed coordinates\n",
    "# np.set_printoptions(precision=3)\n",
    "print(f\"A transformed: {A_transformed}\")\n",
    "print(f\"B transformed: {B_transformed}\")\n",
    "print(f\"C transformed: {C_transformed}\")"
   ]
  }
 ],
 "metadata": {
  "kernelspec": {
   "display_name": "Python 3 (ipykernel)",
   "language": "python",
   "name": "python3"
  },
  "language_info": {
   "codemirror_mode": {
    "name": "ipython",
    "version": 3
   },
   "file_extension": ".py",
   "mimetype": "text/x-python",
   "name": "python",
   "nbconvert_exporter": "python",
   "pygments_lexer": "ipython3",
   "version": "3.8.10"
  }
 },
 "nbformat": 4,
 "nbformat_minor": 5
}
